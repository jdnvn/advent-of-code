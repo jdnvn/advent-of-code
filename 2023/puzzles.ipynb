{
  "cells": [
    {
      "cell_type": "markdown",
      "metadata": {
        "id": "rWt5hXXkhlNQ"
      },
      "source": [
        "## Day 4"
      ]
    },
    {
      "cell_type": "markdown",
      "metadata": {
        "id": "r2onMPFYhqfR"
      },
      "source": [
        "### Part 1"
      ]
    },
    {
      "cell_type": "code",
      "execution_count": null,
      "metadata": {
        "id": "5sus_QEfhtFq"
      },
      "outputs": [],
      "source": []
    },
    {
      "cell_type": "markdown",
      "metadata": {
        "id": "Z3LFtUHJgFx3"
      },
      "source": [
        "## Day 3"
      ]
    },
    {
      "cell_type": "markdown",
      "metadata": {
        "id": "tApd2lXegJ7R"
      },
      "source": [
        "### Part 1"
      ]
    },
    {
      "cell_type": "markdown",
      "metadata": {
        "id": "Odfwa470KuGI"
      },
      "source": [
        "store any numbers from previous row (and their start, end indices) that have not been added to part number sum. If in the next row there is a symbol that is within the range +- 1 of any indices, add that number to the part number sum\n",
        "\n",
        "\n",
        "OR keep a pointer on current row and next row. make sliding window"
      ]
    },
    {
      "cell_type": "code",
      "execution_count": 1,
      "metadata": {
        "id": "zA_iI1hJVOqC"
      },
      "outputs": [],
      "source": [
        "from contextlib import suppress"
      ]
    },
    {
      "cell_type": "code",
      "execution_count": 4,
      "metadata": {
        "id": "OMjnbYs8gItk"
      },
      "outputs": [],
      "source": [
        "input = open('input/day_3_input.txt', 'r')"
      ]
    },
    {
      "cell_type": "code",
      "execution_count": 5,
      "metadata": {
        "id": "oFYCbAD8N9SY"
      },
      "outputs": [],
      "source": [
        "lines = input.read().splitlines()"
      ]
    },
    {
      "cell_type": "code",
      "execution_count": 6,
      "metadata": {
        "id": "tKhzzb-bSRN4"
      },
      "outputs": [],
      "source": [
        "def check_adj(row, start, end):\n",
        "  for column in range(start, end):\n",
        "    for i, j in [(-1, -1), (-1, 0), (0, -1), (-1, 1), (0, 1), (1, 1), (1, 0), (1, -1)]:\n",
        "      with suppress(IndexError):\n",
        "        if not lines[row+i][column+j].isalnum() and lines[row+i][column+j] != '.': return True\n",
        "  return False"
      ]
    },
    {
      "cell_type": "code",
      "execution_count": 7,
      "metadata": {
        "colab": {
          "base_uri": "https://localhost:8080/"
        },
        "id": "GCdr0HusKQke",
        "outputId": "f05b2516-60a9-4b1c-e0ef-a7648da8b5c4"
      },
      "outputs": [
        {
          "data": {
            "text/plain": [
              "550064"
            ]
          },
          "execution_count": 7,
          "metadata": {},
          "output_type": "execute_result"
        }
      ],
      "source": [
        "\n",
        "total = 0\n",
        "for i in range(len(lines)):\n",
        "  num_start = None\n",
        "  for j in range(len(lines[i])):\n",
        "    cur_char = lines[i][j]\n",
        "    if cur_char.isdigit():\n",
        "      if num_start is None: num_start = j\n",
        "      if j == len(lines[i])-1:\n",
        "        is_part = check_adj(i, num_start, j+1)\n",
        "        if is_part: total += int(lines[i][num_start:j+1])\n",
        "    elif num_start is not None:\n",
        "      is_part = check_adj(i, num_start, j)\n",
        "      if is_part: total += int(lines[i][num_start:j])\n",
        "      num_start = None\n",
        "\n",
        "total"
      ]
    },
    {
      "cell_type": "markdown",
      "metadata": {
        "id": "rXnEyIb7UYcl"
      },
      "source": [
        "### Part 2"
      ]
    },
    {
      "cell_type": "markdown",
      "metadata": {
        "id": "U22ovR5JVcCz"
      },
      "source": [
        "1st pass: add numbers to array according to which indexes they occupy\n",
        "\n",
        "2nd pass: identify gears and put all adjacent numbers in a set. if set length == 2, then multiply them and add to sum"
      ]
    },
    {
      "cell_type": "code",
      "execution_count": null,
      "metadata": {
        "id": "6Ive_N-HUaxj"
      },
      "outputs": [],
      "source": [
        "all_indexes = []\n",
        "for i in range(len(lines)):\n",
        "  num_start = None\n",
        "  indexes = []\n",
        "  for j in range(len(lines[i])):\n",
        "    cur_char = lines[i][j]\n",
        "    if cur_char.isdigit():\n",
        "      if num_start is None: num_start = j\n",
        "      if j == len(lines[i])-1:\n",
        "        number = int(lines[i][num_start:j+1])\n",
        "        for k in range(num_start, j+1): indexes.append(number)\n",
        "    elif num_start is not None:\n",
        "      number = int(lines[i][num_start:j])\n",
        "      for k in range(num_start, j): indexes.append(number)\n",
        "      indexes.append(None)\n",
        "      num_start = None\n",
        "    else:\n",
        "      indexes.append(None)\n",
        "  all_indexes.append(indexes)"
      ]
    },
    {
      "cell_type": "code",
      "execution_count": 9,
      "metadata": {
        "id": "Kx3uC97jZ32W"
      },
      "outputs": [],
      "source": [
        "def ratio(row, column):\n",
        "  numbers = set()\n",
        "  for i, j in [(-1, -1), (-1, 0), (0, -1), (-1, 1), (0, 1), (1, 1), (1, 0), (1, -1)]:\n",
        "    with suppress(IndexError):\n",
        "      number = all_indexes[row+i][column+j]\n",
        "      if number is not None: numbers.add(number)\n",
        "  return numbers.pop() * numbers.pop() if len(numbers) == 2 else 0"
      ]
    },
    {
      "cell_type": "code",
      "execution_count": 10,
      "metadata": {
        "id": "MchcTVKpZeCu"
      },
      "outputs": [
        {
          "data": {
            "text/plain": [
              "85010461"
            ]
          },
          "execution_count": 10,
          "metadata": {},
          "output_type": "execute_result"
        }
      ],
      "source": [
        "total = 0\n",
        "for i in range(len(lines)):\n",
        "  for j in range(len(lines[i])):\n",
        "    if lines[i][j] == \"*\": total += ratio(i, j)\n",
        "\n",
        "total"
      ]
    },
    {
      "cell_type": "markdown",
      "metadata": {
        "id": "raWnzc2BAAUT"
      },
      "source": [
        "## Day 2"
      ]
    },
    {
      "cell_type": "markdown",
      "metadata": {
        "id": "sKn1Fpy0ADs-"
      },
      "source": [
        "### Part 1"
      ]
    },
    {
      "cell_type": "code",
      "execution_count": 13,
      "metadata": {},
      "outputs": [],
      "source": [
        "input = open('input/day_2_input.txt', 'r')\n",
        "lines = input.read().splitlines()"
      ]
    },
    {
      "cell_type": "code",
      "execution_count": 14,
      "metadata": {
        "colab": {
          "base_uri": "https://localhost:8080/"
        },
        "id": "OcRn34dtf-gA",
        "outputId": "762d504c-b747-4dd6-c0a6-ec3f360adfdb"
      },
      "outputs": [
        {
          "data": {
            "text/plain": [
              "2285"
            ]
          },
          "execution_count": 14,
          "metadata": {},
          "output_type": "execute_result"
        }
      ],
      "source": [
        "total = 0\n",
        "constraints = { \"red\": 12, \"green\": 13, \"blue\": 14 }\n",
        "\n",
        "for line in lines:\n",
        "  game_id = int(line.split(':')[0].split()[1])\n",
        "  impossible = False\n",
        "  rounds = line.split(':')[1].strip().split(';')\n",
        "  for round in rounds:\n",
        "    draws = round.split(',')\n",
        "    for draw in draws:\n",
        "      draw = draw.strip()\n",
        "      number = int(draw.split()[0])\n",
        "      color = draw.split()[1]\n",
        "      if constraints[color] < number:\n",
        "        impossible = True\n",
        "        break;\n",
        "    if impossible: break;\n",
        "\n",
        "  if not impossible: total += game_id\n",
        "\n",
        "total"
      ]
    },
    {
      "cell_type": "markdown",
      "metadata": {
        "id": "qpBF6HvUdsak"
      },
      "source": [
        "### Part 2"
      ]
    },
    {
      "cell_type": "code",
      "execution_count": 15,
      "metadata": {
        "colab": {
          "base_uri": "https://localhost:8080/"
        },
        "id": "oCDfr3LqdvQo",
        "outputId": "6c67f349-b1de-4d0c-bf60-161e8ed92b33"
      },
      "outputs": [
        {
          "data": {
            "text/plain": [
              "77021"
            ]
          },
          "execution_count": 15,
          "metadata": {},
          "output_type": "execute_result"
        }
      ],
      "source": [
        "sum_power = 0\n",
        "\n",
        "for line in lines:\n",
        "  max_dict = { \"red\": 0, \"green\": 0, \"blue\": 0 }\n",
        "  rounds = line.split(':')[1].strip().split(';')\n",
        "  for round in rounds:\n",
        "    draws = round.split(',')\n",
        "    for draw in draws:\n",
        "      draw = draw.strip()\n",
        "      number = int(draw.split()[0])\n",
        "      color = draw.split()[1]\n",
        "      if max_dict[color] < number:\n",
        "        max_dict[color] = number\n",
        "\n",
        "  power = max_dict[\"red\"] * max_dict[\"green\"] * max_dict[\"blue\"]\n",
        "  sum_power += power\n",
        "\n",
        "sum_power"
      ]
    },
    {
      "cell_type": "markdown",
      "metadata": {
        "id": "NGQrxeuF_w_C"
      },
      "source": [
        "## Day 1"
      ]
    },
    {
      "cell_type": "markdown",
      "metadata": {
        "id": "lZ0Ga9iyuk0E"
      },
      "source": [
        "### Part 1"
      ]
    },
    {
      "cell_type": "code",
      "execution_count": 16,
      "metadata": {},
      "outputs": [],
      "source": [
        "input = open('input/day_1_input.txt', 'r')\n",
        "lines = input.read().splitlines()"
      ]
    },
    {
      "cell_type": "code",
      "execution_count": 17,
      "metadata": {
        "colab": {
          "base_uri": "https://localhost:8080/"
        },
        "id": "JMB7KU44qnQv",
        "outputId": "f5b9cb9b-323a-4887-f047-ecda338c5859"
      },
      "outputs": [
        {
          "data": {
            "text/plain": [
              "54667"
            ]
          },
          "execution_count": 17,
          "metadata": {},
          "output_type": "execute_result"
        }
      ],
      "source": [
        "\n",
        "total = 0\n",
        "for line in lines:\n",
        "  beginning = 0\n",
        "  end = len(line) - 1\n",
        "  first_digit = None\n",
        "  second_digit = None\n",
        "\n",
        "  while beginning <= end:\n",
        "    beginning_char = line[beginning]\n",
        "    end_char = line[end]\n",
        "\n",
        "    try:\n",
        "      int(beginning_char)\n",
        "      first_digit = beginning_char\n",
        "    except:\n",
        "      beginning += 1\n",
        "\n",
        "    try:\n",
        "      int(end_char)\n",
        "      second_digit = end_char\n",
        "    except:\n",
        "      end -= 1\n",
        "\n",
        "    if first_digit and second_digit: break\n",
        "\n",
        "  number = int(first_digit + second_digit)\n",
        "  total += number\n",
        "\n",
        "total"
      ]
    },
    {
      "cell_type": "markdown",
      "metadata": {
        "id": "5I5DczAZuoIk"
      },
      "source": [
        "### Part 2"
      ]
    },
    {
      "cell_type": "code",
      "execution_count": 18,
      "metadata": {
        "colab": {
          "base_uri": "https://localhost:8080/"
        },
        "id": "z1kMSeEntuqD",
        "outputId": "d5d1e411-e8c2-44e6-d64f-74e789d08786"
      },
      "outputs": [
        {
          "data": {
            "text/plain": [
              "54203"
            ]
          },
          "execution_count": 18,
          "metadata": {},
          "output_type": "execute_result"
        }
      ],
      "source": [
        "digits = [\"one\", \"two\", \"three\", \"four\", \"five\", \"six\", \"seven\", \"eight\", \"nine\"]\n",
        "\n",
        "total = 0\n",
        "\n",
        "# beginning and end pointers\n",
        "# append every character to a string unless its an int, then don't store it and save the int as a digit\n",
        "# if we hit the end and the digit is still None, check for inclusion of a digit in string\n",
        "\n",
        "\n",
        "def find_digit_in_word(word):\n",
        "  digit_char = None\n",
        "  for i, digit in enumerate(digits):\n",
        "    if digit in word: digit_char = str(i+1); break\n",
        "  return digit_char\n",
        "\n",
        "for line in lines:\n",
        "  beg = 0\n",
        "  end = len(line) - 1\n",
        "\n",
        "  beg_word = \"\"\n",
        "  end_word = \"\"\n",
        "  first_digit = None\n",
        "  second_digit = None\n",
        "\n",
        "  while beg <= end:\n",
        "    beg_char = line[beg]\n",
        "    end_char = line[end]\n",
        "\n",
        "    if first_digit is None:\n",
        "      try:\n",
        "        int(beg_char)\n",
        "        first_digit = beg_char\n",
        "      except:\n",
        "        beg_word = beg_word + beg_char\n",
        "        first_digit = find_digit_in_word(beg_word)\n",
        "        beg += 1\n",
        "\n",
        "    if second_digit is None:\n",
        "      try:\n",
        "        int(end_char)\n",
        "        second_digit = end_char\n",
        "      except:\n",
        "        end_word = end_char + end_word\n",
        "        second_digit = find_digit_in_word(end_word)\n",
        "        end -= 1\n",
        "\n",
        "    if first_digit and second_digit: break\n",
        "\n",
        "  number = int(first_digit + second_digit)\n",
        "  total += number\n",
        "\n",
        "total"
      ]
    }
  ],
  "metadata": {
    "colab": {
      "collapsed_sections": [
        "raWnzc2BAAUT",
        "NGQrxeuF_w_C"
      ],
      "provenance": []
    },
    "kernelspec": {
      "display_name": "Python 3",
      "name": "python3"
    },
    "language_info": {
      "codemirror_mode": {
        "name": "ipython",
        "version": 3
      },
      "file_extension": ".py",
      "mimetype": "text/x-python",
      "name": "python",
      "nbconvert_exporter": "python",
      "pygments_lexer": "ipython3",
      "version": "3.11.5"
    }
  },
  "nbformat": 4,
  "nbformat_minor": 0
}
