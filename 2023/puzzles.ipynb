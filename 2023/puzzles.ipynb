{
  "nbformat": 4,
  "nbformat_minor": 0,
  "metadata": {
    "colab": {
      "provenance": [],
      "collapsed_sections": [
        "raWnzc2BAAUT",
        "NGQrxeuF_w_C"
      ]
    },
    "kernelspec": {
      "name": "python3",
      "display_name": "Python 3"
    },
    "language_info": {
      "name": "python"
    }
  },
  "cells": [
    {
      "cell_type": "markdown",
      "source": [
        "## Day 4"
      ],
      "metadata": {
        "id": "rWt5hXXkhlNQ"
      }
    },
    {
      "cell_type": "markdown",
      "source": [
        "### Part 1"
      ],
      "metadata": {
        "id": "r2onMPFYhqfR"
      }
    },
    {
      "cell_type": "code",
      "source": [],
      "metadata": {
        "id": "5sus_QEfhtFq"
      },
      "execution_count": null,
      "outputs": []
    },
    {
      "cell_type": "markdown",
      "source": [
        "## Day 3"
      ],
      "metadata": {
        "id": "Z3LFtUHJgFx3"
      }
    },
    {
      "cell_type": "markdown",
      "source": [
        "### Part 1"
      ],
      "metadata": {
        "id": "tApd2lXegJ7R"
      }
    },
    {
      "cell_type": "markdown",
      "source": [
        "store any numbers from previous row (and their start, end indices) that have not been added to part number sum. If in the next row there is a symbol that is within the range +- 1 of any indices, add that number to the part number sum\n",
        "\n",
        "\n",
        "OR keep a pointer on current row and next row. make sliding window"
      ],
      "metadata": {
        "id": "Odfwa470KuGI"
      }
    },
    {
      "cell_type": "code",
      "source": [
        "from contextlib import suppress"
      ],
      "metadata": {
        "id": "zA_iI1hJVOqC"
      },
      "execution_count": 1,
      "outputs": []
    },
    {
      "cell_type": "code",
      "source": [
        "input = open('day_3_input.txt', 'r')"
      ],
      "metadata": {
        "id": "OMjnbYs8gItk"
      },
      "execution_count": 2,
      "outputs": []
    },
    {
      "cell_type": "code",
      "source": [
        "lines = input.read().splitlines()"
      ],
      "metadata": {
        "id": "oFYCbAD8N9SY"
      },
      "execution_count": 3,
      "outputs": []
    },
    {
      "cell_type": "code",
      "source": [
        "def check_adj(row, start, end):\n",
        "  for column in range(start, end):\n",
        "    for i, j in [(-1, -1), (-1, 0), (0, -1), (-1, 1), (0, 1), (1, 1), (1, 0), (1, -1)]:\n",
        "      with suppress(IndexError):\n",
        "        if not lines[row+i][column+j].isalnum() and lines[row+i][column+j] != '.': return True\n",
        "  return False"
      ],
      "metadata": {
        "id": "tKhzzb-bSRN4"
      },
      "execution_count": 4,
      "outputs": []
    },
    {
      "cell_type": "code",
      "source": [
        "\n",
        "total = 0\n",
        "for i in range(len(lines)):\n",
        "  num_start = None\n",
        "  for j in range(len(lines[i])):\n",
        "    cur_char = lines[i][j]\n",
        "    if cur_char.isdigit():\n",
        "      if num_start is None: num_start = j\n",
        "      if j == len(lines[i])-1:\n",
        "        is_part = check_adj(i, num_start, j+1)\n",
        "        if is_part: total += int(lines[i][num_start:j+1])\n",
        "    elif num_start is not None:\n",
        "      is_part = check_adj(i, num_start, j)\n",
        "      if is_part: total += int(lines[i][num_start:j])\n",
        "      num_start = None\n",
        "\n",
        "total"
      ],
      "metadata": {
        "colab": {
          "base_uri": "https://localhost:8080/"
        },
        "id": "GCdr0HusKQke",
        "outputId": "f05b2516-60a9-4b1c-e0ef-a7648da8b5c4"
      },
      "execution_count": 5,
      "outputs": [
        {
          "output_type": "execute_result",
          "data": {
            "text/plain": [
              "550064"
            ]
          },
          "metadata": {},
          "execution_count": 5
        }
      ]
    },
    {
      "cell_type": "markdown",
      "source": [
        "### Part 2"
      ],
      "metadata": {
        "id": "rXnEyIb7UYcl"
      }
    },
    {
      "cell_type": "markdown",
      "source": [
        "1st pass: add numbers to array according to which indexes they occupy\n",
        "\n",
        "2nd pass: identify gears and put all adjacent numbers in a set. if set length == 2, then multiply them and add to sum"
      ],
      "metadata": {
        "id": "U22ovR5JVcCz"
      }
    },
    {
      "cell_type": "code",
      "source": [
        "all_indexes = []\n",
        "for i in range(len(lines)):\n",
        "  num_start = None\n",
        "  indexes = []\n",
        "  for j in range(len(lines[i])):\n",
        "    cur_char = lines[i][j]\n",
        "    if cur_char.isdigit():\n",
        "      if num_start is None: num_start = j\n",
        "      if j == len(lines[i])-1:\n",
        "        number = int(lines[i][num_start:j+1])\n",
        "        for k in range(num_start, j+1): indexes.append(number)\n",
        "    elif num_start is not None:\n",
        "      number = int(lines[i][num_start:j])\n",
        "      for k in range(num_start, j): indexes.append(number)\n",
        "      indexes.append(None)\n",
        "      num_start = None\n",
        "    else:\n",
        "      indexes.append(None)\n",
        "  all_indexes.append(indexes)\n",
        "all_indexes"
      ],
      "metadata": {
        "id": "6Ive_N-HUaxj"
      },
      "execution_count": null,
      "outputs": []
    },
    {
      "cell_type": "code",
      "source": [
        "all_indexes[0]"
      ],
      "metadata": {
        "id": "oe4f2yDga29j"
      },
      "execution_count": null,
      "outputs": []
    },
    {
      "cell_type": "code",
      "source": [
        "def ratio(row, column):\n",
        "  numbers = set()\n",
        "  for i, j in [(-1, -1), (-1, 0), (0, -1), (-1, 1), (0, 1), (1, 1), (1, 0), (1, -1)]:\n",
        "    with suppress(IndexError):\n",
        "      number = all_indexes[row+i][column+j]\n",
        "      if number is not None: numbers.add(number)\n",
        "  if len(numbers) == 2: print(f\"ratio: {numbers}\")\n",
        "  return numbers.pop() * numbers.pop() if len(numbers) == 2 else 0"
      ],
      "metadata": {
        "id": "Kx3uC97jZ32W"
      },
      "execution_count": 36,
      "outputs": []
    },
    {
      "cell_type": "code",
      "source": [
        "total = 0\n",
        "for i in range(len(lines)):\n",
        "  for j in range(len(lines[i])):\n",
        "    cur_char = lines[i][j]\n",
        "\n",
        "    if cur_char == \"*\":\n",
        "      total += ratio(i, j)\n",
        "total"
      ],
      "metadata": {
        "id": "MchcTVKpZeCu"
      },
      "execution_count": null,
      "outputs": []
    },
    {
      "cell_type": "markdown",
      "source": [
        "## Day 2"
      ],
      "metadata": {
        "id": "raWnzc2BAAUT"
      }
    },
    {
      "cell_type": "markdown",
      "source": [
        "### Part 1"
      ],
      "metadata": {
        "id": "sKn1Fpy0ADs-"
      }
    },
    {
      "cell_type": "code",
      "source": [
        "input = open('day_2_input.txt', 'r')\n",
        "total = 0\n",
        "constraints = { \"red\": 12, \"green\": 13, \"blue\": 14 }\n",
        "\n",
        "for line in input.readlines():\n",
        "  game_id = int(line.split(':')[0].split()[1])\n",
        "  impossible = False\n",
        "  rounds = line.split(':')[1].strip().split(';')\n",
        "  for round in rounds:\n",
        "    draws = round.split(',')\n",
        "    for draw in draws:\n",
        "      draw = draw.strip()\n",
        "      number = int(draw.split()[0])\n",
        "      color = draw.split()[1]\n",
        "      if constraints[color] < number:\n",
        "        impossible = True\n",
        "        break;\n",
        "    if impossible: break;\n",
        "\n",
        "  if not impossible: total += game_id\n",
        "\n",
        "total"
      ],
      "metadata": {
        "colab": {
          "base_uri": "https://localhost:8080/"
        },
        "id": "OcRn34dtf-gA",
        "outputId": "762d504c-b747-4dd6-c0a6-ec3f360adfdb"
      },
      "execution_count": 24,
      "outputs": [
        {
          "output_type": "execute_result",
          "data": {
            "text/plain": [
              "2285"
            ]
          },
          "metadata": {},
          "execution_count": 24
        }
      ]
    },
    {
      "cell_type": "markdown",
      "source": [
        "### Part 2"
      ],
      "metadata": {
        "id": "qpBF6HvUdsak"
      }
    },
    {
      "cell_type": "code",
      "source": [
        "input = open('day_2_input.txt', 'r')\n",
        "sum_power = 0\n",
        "\n",
        "for line in input.readlines():\n",
        "  max_dict = { \"red\": 0, \"green\": 0, \"blue\": 0 }\n",
        "  rounds = line.split(':')[1].strip().split(';')\n",
        "  for round in rounds:\n",
        "    draws = round.split(',')\n",
        "    for draw in draws:\n",
        "      draw = draw.strip()\n",
        "      number = int(draw.split()[0])\n",
        "      color = draw.split()[1]\n",
        "      if max_dict[color] < number:\n",
        "        max_dict[color] = number\n",
        "\n",
        "  power = max_dict[\"red\"] * max_dict[\"green\"] * max_dict[\"blue\"]\n",
        "  sum_power += power\n",
        "\n",
        "sum_power"
      ],
      "metadata": {
        "colab": {
          "base_uri": "https://localhost:8080/"
        },
        "id": "oCDfr3LqdvQo",
        "outputId": "6c67f349-b1de-4d0c-bf60-161e8ed92b33"
      },
      "execution_count": 23,
      "outputs": [
        {
          "output_type": "execute_result",
          "data": {
            "text/plain": [
              "77021"
            ]
          },
          "metadata": {},
          "execution_count": 23
        }
      ]
    },
    {
      "cell_type": "markdown",
      "source": [
        "## Day 1"
      ],
      "metadata": {
        "id": "NGQrxeuF_w_C"
      }
    },
    {
      "cell_type": "markdown",
      "source": [
        "### Part 1"
      ],
      "metadata": {
        "id": "lZ0Ga9iyuk0E"
      }
    },
    {
      "cell_type": "code",
      "execution_count": null,
      "metadata": {
        "colab": {
          "base_uri": "https://localhost:8080/"
        },
        "id": "JMB7KU44qnQv",
        "outputId": "f5b9cb9b-323a-4887-f047-ecda338c5859"
      },
      "outputs": [
        {
          "output_type": "execute_result",
          "data": {
            "text/plain": [
              "54667"
            ]
          },
          "metadata": {},
          "execution_count": 8
        }
      ],
      "source": [
        "input = open('day_1_input.txt', 'r')\n",
        "total = 0\n",
        "for line in input.readlines():\n",
        "  beginning = 0\n",
        "  end = len(line) - 1\n",
        "  first_digit = None\n",
        "  second_digit = None\n",
        "\n",
        "  while beginning <= end:\n",
        "    beginning_char = line[beginning]\n",
        "    end_char = line[end]\n",
        "\n",
        "    try:\n",
        "      int(beginning_char)\n",
        "      first_digit = beginning_char\n",
        "    except:\n",
        "      beginning += 1\n",
        "\n",
        "    try:\n",
        "      int(end_char)\n",
        "      second_digit = end_char\n",
        "    except:\n",
        "      end -= 1\n",
        "\n",
        "    if first_digit and second_digit: break\n",
        "\n",
        "  number = int(first_digit + second_digit)\n",
        "  total += number\n",
        "\n",
        "total"
      ]
    },
    {
      "cell_type": "markdown",
      "source": [
        "### Part 2"
      ],
      "metadata": {
        "id": "5I5DczAZuoIk"
      }
    },
    {
      "cell_type": "code",
      "source": [
        "input = open('day_1_input.txt', 'r')\n",
        "\n",
        "digits = [\"one\", \"two\", \"three\", \"four\", \"five\", \"six\", \"seven\", \"eight\", \"nine\"]\n",
        "\n",
        "total = 0\n",
        "\n",
        "# beginning and end pointers\n",
        "# append every character to a string unless its an int, then don't store it and save the int as a digit\n",
        "# if we hit the end and the digit is still None, check for inclusion of a digit in string\n",
        "\n",
        "\n",
        "def find_digit_in_word(word):\n",
        "  digit_char = None\n",
        "  for i, digit in enumerate(digits):\n",
        "    if digit in word: digit_char = str(i+1); break\n",
        "  return digit_char\n",
        "\n",
        "for line in input.readlines():\n",
        "  beg = 0\n",
        "  end = len(line) - 1\n",
        "\n",
        "  beg_word = \"\"\n",
        "  end_word = \"\"\n",
        "  first_digit = None\n",
        "  second_digit = None\n",
        "\n",
        "  while beg <= end:\n",
        "    beg_char = line[beg]\n",
        "    end_char = line[end]\n",
        "\n",
        "    if first_digit is None:\n",
        "      try:\n",
        "        int(beg_char)\n",
        "        first_digit = beg_char\n",
        "      except:\n",
        "        beg_word = beg_word + beg_char\n",
        "        first_digit = find_digit_in_word(beg_word)\n",
        "        beg += 1\n",
        "\n",
        "    if second_digit is None:\n",
        "      try:\n",
        "        int(end_char)\n",
        "        second_digit = end_char\n",
        "      except:\n",
        "        end_word = end_char + end_word\n",
        "        second_digit = find_digit_in_word(end_word)\n",
        "        end -= 1\n",
        "\n",
        "    if first_digit and second_digit: break\n",
        "\n",
        "  number = int(first_digit + second_digit)\n",
        "  total += number\n",
        "\n",
        "total"
      ],
      "metadata": {
        "colab": {
          "base_uri": "https://localhost:8080/"
        },
        "id": "z1kMSeEntuqD",
        "outputId": "d5d1e411-e8c2-44e6-d64f-74e789d08786"
      },
      "execution_count": null,
      "outputs": [
        {
          "output_type": "execute_result",
          "data": {
            "text/plain": [
              "54203"
            ]
          },
          "metadata": {},
          "execution_count": 9
        }
      ]
    }
  ]
}